{
 "cells": [
  {
   "cell_type": "code",
   "execution_count": 1,
   "id": "lesser-forum",
   "metadata": {},
   "outputs": [],
   "source": [
    "import numpy as np \n",
    "import torch \n",
    "import pickle\n",
    "import matplotlib.pyplot as plt \n",
    "import seaborn as sns \n",
    "import torch.nn as nn \n",
    "import torch.nn.functional as F \n",
    "from sklearn import metrics \n",
    "from sklearn.model_selection import train_test_split \n",
    "from PIL import Image\n",
    "import os"
   ]
  },
  {
   "cell_type": "code",
   "execution_count": 2,
   "id": "purple-chase",
   "metadata": {},
   "outputs": [],
   "source": [
    "def batchToNumpy(file):\n",
    "    with open(file,'rb') as f:\n",
    "        d = pickle.load(f,encoding='latin1')\n",
    "    x = d['data']\n",
    "    x = np.array(x)\n",
    "    x = x.reshape(10000,3,32,32)\n",
    "    y = np.array(d['labels'])\n",
    "    return x,y"
   ]
  },
  {
   "cell_type": "code",
   "execution_count": 3,
   "id": "fluid-length",
   "metadata": {},
   "outputs": [
    {
     "name": "stdout",
     "output_type": "stream",
     "text": [
      "(10000, 3, 32, 32)\n",
      "(10000,)\n"
     ]
    }
   ],
   "source": [
    "# Checking if the function is working correctly\n",
    "test_file = '../input/cifar-10-batches-py/data_batch_1'\n",
    "x,y = batchToNumpy(test_file)\n",
    "print(x.shape)\n",
    "print(y.shape)"
   ]
  },
  {
   "cell_type": "code",
   "execution_count": 4,
   "id": "impaired-manual",
   "metadata": {},
   "outputs": [
    {
     "name": "stdout",
     "output_type": "stream",
     "text": [
      "(3, 32, 32)\n",
      "(32, 32, 3)\n"
     ]
    }
   ],
   "source": [
    "# plotting a image and its label \n",
    "x_0 = x[0]\n",
    "print(x_0.shape)\n",
    "x_0 = np.transpose(x_0,(1,2,0))\n",
    "print(x_0.shape)"
   ]
  },
  {
   "cell_type": "code",
   "execution_count": 5,
   "id": "vertical-visit",
   "metadata": {},
   "outputs": [],
   "source": [
    "x_0 = Image.fromarray(x_0.astype('uint8'))"
   ]
  },
  {
   "cell_type": "code",
   "execution_count": 6,
   "id": "competent-conference",
   "metadata": {},
   "outputs": [
    {
     "data": {
      "text/plain": [
       "Text(0.5, 1.0, '6')"
      ]
     },
     "execution_count": 6,
     "metadata": {},
     "output_type": "execute_result"
    },
    {
     "data": {
      "image/png": "[encoded data removed]",
      "text/plain": [
       "<Figure size 432x288 with 1 Axes>"
      ]
     },
     "metadata": {
      "needs_background": "light"
     },
     "output_type": "display_data"
    }
   ],
   "source": [
    "plt.imshow(x_0)\n",
    "plt.title(y[0])"
   ]
  },
  {
   "cell_type": "code",
   "execution_count": 7,
   "id": "attractive-mambo",
   "metadata": {},
   "outputs": [],
   "source": [
    "filename = ['data_batch_1','data_batch_2','data_batch_3','data_batch_4','data_batch_5']\n",
    "x = []\n",
    "y = []\n",
    "\n",
    "for f in filename:\n",
    "    X,Y = batchToNumpy(os.path.join('../input/cifar-10-batches-py',f))\n",
    "    x.append(X)\n",
    "    y.append(Y)"
   ]
  },
  {
   "cell_type": "code",
   "execution_count": 8,
   "id": "tested-consolidation",
   "metadata": {},
   "outputs": [],
   "source": [
    "x = np.concatenate(x)"
   ]
  },
  {
   "cell_type": "code",
   "execution_count": 9,
   "id": "outdoor-european",
   "metadata": {},
   "outputs": [],
   "source": [
    "y = np.concatenate(y)"
   ]
  },
  {
   "cell_type": "code",
   "execution_count": 10,
   "id": "outstanding-squad",
   "metadata": {},
   "outputs": [
    {
     "name": "stdout",
     "output_type": "stream",
     "text": [
      "(50000, 3, 32, 32)\n",
      "(50000,)\n"
     ]
    }
   ],
   "source": [
    "print(x.shape)\n",
    "print(y.shape)"
   ]
  },
  {
   "cell_type": "code",
   "execution_count": 11,
   "id": "collect-translator",
   "metadata": {},
   "outputs": [
    {
     "name": "stdout",
     "output_type": "stream",
     "text": [
      "X_train Shape:  (40000, 3, 32, 32)\n",
      "X_valid Shape:  (10000, 3, 32, 32)\n"
     ]
    }
   ],
   "source": [
    "x_train,x_valid,y_train,y_valid = train_test_split(x,y,test_size=0.2,random_state=42)\n",
    "print('X_train Shape: ',x_train.shape)\n",
    "print('X_valid Shape: ',x_valid.shape)"
   ]
  },
  {
   "cell_type": "code",
   "execution_count": 12,
   "id": "utility-embassy",
   "metadata": {},
   "outputs": [
    {
     "name": "stdout",
     "output_type": "stream",
     "text": [
      "(10000, 3, 32, 32)\n",
      "(10000,)\n"
     ]
    }
   ],
   "source": [
    "x_test,y_test = batchToNumpy('../input/cifar-10-batches-py/test_batch')\n",
    "print(x_test.shape)\n",
    "print(y_test.shape)"
   ]
  },
  {
   "cell_type": "code",
   "execution_count": 13,
   "id": "attached-bachelor",
   "metadata": {},
   "outputs": [],
   "source": [
    "from torchvision import transforms\n",
    "from torch.utils.data import Dataset,DataLoader"
   ]
  },
  {
   "cell_type": "code",
   "execution_count": 14,
   "id": "small-federal",
   "metadata": {},
   "outputs": [],
   "source": [
    "class cifar10Dataset(Dataset):\n",
    "    def __init__(self,data,label,transform=None):\n",
    "        self.data=data\n",
    "        self.label=label\n",
    "        self.transform=transform\n",
    "    \n",
    "    def __len__(self):\n",
    "        return len(self.data)\n",
    "    \n",
    "    def __getitem__(self,item):\n",
    "        image = self.data[item]\n",
    "        image = Image.fromarray(np.transpose(image,(1,2,0)))\n",
    "        label = self.label[item]\n",
    "        if self.transform:\n",
    "            image = self.transform(image)\n",
    "        image = np.array(image).astype('float32') \n",
    "        image = image/255.0\n",
    "        image = np.transpose(image,(2,0,1))\n",
    "        image = torch.tensor(image,dtype=torch.float)\n",
    "        label = torch.tensor(label,dtype=torch.long)\n",
    "        return image,label"
   ]
  },
  {
   "cell_type": "code",
   "execution_count": 15,
   "id": "worth-seven",
   "metadata": {},
   "outputs": [],
   "source": [
    "transform= transforms.Compose([transforms.RandomHorizontalFlip(),transforms.RandomRotation(30)])"
   ]
  },
  {
   "cell_type": "code",
   "execution_count": 16,
   "id": "civil-constitutional",
   "metadata": {},
   "outputs": [],
   "source": [
    "train_data = cifar10Dataset(data=x_train,label=y_train,transform=transform)\n",
    "valid_data = cifar10Dataset(data=x_valid,label=y_valid,transform=False)\n",
    "test_data = cifar10Dataset(data=x_test,label=y_test,transform=False)"
   ]
  },
  {
   "cell_type": "code",
   "execution_count": 17,
   "id": "alive-secretary",
   "metadata": {},
   "outputs": [],
   "source": [
    "train_loader = DataLoader(train_data,batch_size=64,shuffle=True)\n",
    "valid_loader = DataLoader(valid_data,batch_size=64,shuffle=False)\n",
    "test_loader = DataLoader(test_data,batch_size=1,shuffle=False)"
   ]
  },
  {
   "cell_type": "code",
   "execution_count": 18,
   "id": "bridal-couple",
   "metadata": {},
   "outputs": [
    {
     "name": "stdout",
     "output_type": "stream",
     "text": [
      "torch.Size([3, 32, 32])\n",
      "torch.Size([])\n"
     ]
    }
   ],
   "source": [
    "train_image,train_label = next(iter(train_loader))\n",
    "train_image = train_image[0]\n",
    "train_label = train_label[0]\n",
    "print(train_image.shape)\n",
    "print(train_label.shape)"
   ]
  },
  {
   "cell_type": "code",
   "execution_count": 19,
   "id": "sought-scout",
   "metadata": {},
   "outputs": [
    {
     "data": {
      "text/plain": [
       "Text(0.5, 1.0, 'tensor(3)')"
      ]
     },
     "execution_count": 19,
     "metadata": {},
     "output_type": "execute_result"
    },
    {
     "data": {
      "image/png": "[encoded data removed]",
      "text/plain": [
       "<Figure size 432x288 with 1 Axes>"
      ]
     },
     "metadata": {
      "needs_background": "light"
     },
     "output_type": "display_data"
    }
   ],
   "source": [
    "plt.imshow(np.transpose(train_image,(1,2,0)))\n",
    "plt.title(train_label)"
   ]
  },
  {
   "cell_type": "code",
   "execution_count": 20,
   "id": "wireless-hours",
   "metadata": {},
   "outputs": [],
   "source": [
    "class Net(nn.Module):\n",
    "    def __init__(self):\n",
    "        super(Net,self).__init__()\n",
    "        self.conv1 = nn.Conv2d(3,16,3,padding=1)\n",
    "        self.conv2 = nn.Conv2d(16,32,3,padding=1)\n",
    "        self.conv3 = nn.Conv2d(32,64,3,padding=1)\n",
    "        self.pool = nn.MaxPool2d(2,2)\n",
    "        self.dropout = nn.Dropout(0.2)\n",
    "        self.fc1 = nn.Linear(1024,512)\n",
    "        self.fc2 = nn.Linear(512,10)\n",
    "        \n",
    "    def forward(self,x):\n",
    "        x = self.pool(F.relu(self.conv1(x)))\n",
    "        x = self.pool(F.relu(self.conv2(x)))\n",
    "        x = self.pool(F.relu(self.conv3(x)))\n",
    "        x = x.view(x.shape[0],-1)\n",
    "        x = self.dropout(x)\n",
    "        x = F.relu(self.fc1(x))\n",
    "        x = self.dropout(x)\n",
    "        x = self.fc2(x)\n",
    "        return x"
   ]
  },
  {
   "cell_type": "code",
   "execution_count": 21,
   "id": "chemical-columbus",
   "metadata": {},
   "outputs": [],
   "source": [
    "model = Net()"
   ]
  },
  {
   "cell_type": "code",
   "execution_count": 22,
   "id": "judicial-uncertainty",
   "metadata": {},
   "outputs": [
    {
     "name": "stdout",
     "output_type": "stream",
     "text": [
      "Net(\n",
      "  (conv1): Conv2d(3, 16, kernel_size=(3, 3), stride=(1, 1), padding=(1, 1))\n",
      "  (conv2): Conv2d(16, 32, kernel_size=(3, 3), stride=(1, 1), padding=(1, 1))\n",
      "  (conv3): Conv2d(32, 64, kernel_size=(3, 3), stride=(1, 1), padding=(1, 1))\n",
      "  (pool): MaxPool2d(kernel_size=2, stride=2, padding=0, dilation=1, ceil_mode=False)\n",
      "  (dropout): Dropout(p=0.2, inplace=False)\n",
      "  (fc1): Linear(in_features=1024, out_features=512, bias=True)\n",
      "  (fc2): Linear(in_features=512, out_features=10, bias=True)\n",
      ")\n"
     ]
    }
   ],
   "source": [
    "print(model)"
   ]
  },
  {
   "cell_type": "code",
   "execution_count": 23,
   "id": "opponent-mineral",
   "metadata": {},
   "outputs": [],
   "source": [
    "criterion = nn.CrossEntropyLoss()\n",
    "optimizer = torch.optim.SGD(model.parameters(),lr = 0.01)"
   ]
  },
  {
   "cell_type": "code",
   "execution_count": 24,
   "id": "announced-vegetarian",
   "metadata": {},
   "outputs": [
    {
     "name": "stderr",
     "output_type": "stream",
     "text": [
      "/home/abhilash/miniconda3/envs/ml/lib/python3.7/site-packages/torch/autograd/__init__.py:132: UserWarning: CUDA initialization: Found no NVIDIA driver on your system. Please check that you have an NVIDIA GPU and installed a driver from http://www.nvidia.com/Download/index.aspx (Triggered internally at  /pytorch/c10/cuda/CUDAFunctions.cpp:100.)\n",
      "  allow_unreachable=True)  # allow_unreachable flag\n"
     ]
    },
    {
     "name": "stdout",
     "output_type": "stream",
     "text": [
      "Epoch : 1 Train Loss : 2.300465 Valid Loss : 2.295298\n",
      "Validation Loss decreased inf -->> 2.295298 . Saving model\n",
      "Epoch : 2 Train Loss : 2.282917 Valid Loss : 2.237882\n",
      "Validation Loss decreased 2.295298 -->> 2.237882 . Saving model\n",
      "Epoch : 3 Train Loss : 2.198495 Valid Loss : 2.132328\n",
      "Validation Loss decreased 2.237882 -->> 2.132328 . Saving model\n",
      "Epoch : 4 Train Loss : 2.062694 Valid Loss : 1.984091\n",
      "Validation Loss decreased 2.132328 -->> 1.984091 . Saving model\n",
      "Epoch : 5 Train Loss : 1.985492 Valid Loss : 1.912615\n",
      "Validation Loss decreased 1.984091 -->> 1.912615 . Saving model\n",
      "Epoch : 6 Train Loss : 1.915311 Valid Loss : 1.823286\n",
      "Validation Loss decreased 1.912615 -->> 1.823286 . Saving model\n",
      "Epoch : 7 Train Loss : 1.842149 Valid Loss : 1.747240\n",
      "Validation Loss decreased 1.823286 -->> 1.747240 . Saving model\n",
      "Epoch : 8 Train Loss : 1.768933 Valid Loss : 1.666999\n",
      "Validation Loss decreased 1.747240 -->> 1.666999 . Saving model\n",
      "Epoch : 9 Train Loss : 1.711864 Valid Loss : 1.601355\n",
      "Validation Loss decreased 1.666999 -->> 1.601355 . Saving model\n",
      "Epoch : 10 Train Loss : 1.658888 Valid Loss : 1.556872\n",
      "Validation Loss decreased 1.601355 -->> 1.556872 . Saving model\n",
      "Epoch : 11 Train Loss : 1.614496 Valid Loss : 1.553860\n",
      "Validation Loss decreased 1.556872 -->> 1.553860 . Saving model\n",
      "Epoch : 12 Train Loss : 1.578647 Valid Loss : 1.487108\n",
      "Validation Loss decreased 1.553860 -->> 1.487108 . Saving model\n",
      "Epoch : 13 Train Loss : 1.552607 Valid Loss : 1.450438\n",
      "Validation Loss decreased 1.487108 -->> 1.450438 . Saving model\n",
      "Epoch : 14 Train Loss : 1.526319 Valid Loss : 1.420987\n",
      "Validation Loss decreased 1.450438 -->> 1.420987 . Saving model\n",
      "Epoch : 15 Train Loss : 1.501509 Valid Loss : 1.395549\n",
      "Validation Loss decreased 1.420987 -->> 1.395549 . Saving model\n",
      "Epoch : 16 Train Loss : 1.482546 Valid Loss : 1.367229\n",
      "Validation Loss decreased 1.395549 -->> 1.367229 . Saving model\n",
      "Epoch : 17 Train Loss : 1.462458 Valid Loss : 1.384538\n",
      "Epoch : 18 Train Loss : 1.439674 Valid Loss : 1.335233\n",
      "Validation Loss decreased 1.367229 -->> 1.335233 . Saving model\n",
      "Epoch : 19 Train Loss : 1.425131 Valid Loss : 1.323717\n",
      "Validation Loss decreased 1.335233 -->> 1.323717 . Saving model\n",
      "Epoch : 20 Train Loss : 1.402605 Valid Loss : 1.333771\n",
      "Epoch : 21 Train Loss : 1.387960 Valid Loss : 1.277781\n",
      "Validation Loss decreased 1.323717 -->> 1.277781 . Saving model\n",
      "Epoch : 22 Train Loss : 1.376269 Valid Loss : 1.269928\n",
      "Validation Loss decreased 1.277781 -->> 1.269928 . Saving model\n",
      "Epoch : 23 Train Loss : 1.355837 Valid Loss : 1.253035\n",
      "Validation Loss decreased 1.269928 -->> 1.253035 . Saving model\n",
      "Epoch : 24 Train Loss : 1.346495 Valid Loss : 1.261778\n",
      "Epoch : 25 Train Loss : 1.325428 Valid Loss : 1.221617\n",
      "Validation Loss decreased 1.253035 -->> 1.221617 . Saving model\n",
      "Epoch : 26 Train Loss : 1.315755 Valid Loss : 1.219701\n",
      "Validation Loss decreased 1.221617 -->> 1.219701 . Saving model\n",
      "Epoch : 27 Train Loss : 1.304986 Valid Loss : 1.208806\n",
      "Validation Loss decreased 1.219701 -->> 1.208806 . Saving model\n",
      "Epoch : 28 Train Loss : 1.294465 Valid Loss : 1.191407\n",
      "Validation Loss decreased 1.208806 -->> 1.191407 . Saving model\n",
      "Epoch : 29 Train Loss : 1.279768 Valid Loss : 1.182983\n",
      "Validation Loss decreased 1.191407 -->> 1.182983 . Saving model\n",
      "Epoch : 30 Train Loss : 1.264441 Valid Loss : 1.165705\n",
      "Validation Loss decreased 1.182983 -->> 1.165705 . Saving model\n"
     ]
    }
   ],
   "source": [
    "n_epochs=30\n",
    "valid_loss_min = np.Inf\n",
    "\n",
    "for epoch in range(1,n_epochs+1):\n",
    "    train_loss = 0.0\n",
    "    valid_loss = 0.0 \n",
    "    model.train()\n",
    "    for data,target in train_loader:\n",
    "        optimizer.zero_grad()\n",
    "        output = model(data)\n",
    "        loss = criterion(output,target)\n",
    "        loss.backward()\n",
    "        optimizer.step()\n",
    "        train_loss+=loss.item()*data.size(0)\n",
    "    model.eval()\n",
    "    for data,target in valid_loader:\n",
    "        output = model(data)\n",
    "        loss = criterion(output,target)\n",
    "        valid_loss+=loss.item()*data.size(0)\n",
    "    \n",
    "    train_loss = train_loss/len(train_loader.sampler)\n",
    "    valid_loss = valid_loss/len(valid_loader.sampler)\n",
    "    \n",
    "    print('Epoch : {} Train Loss : {:.6f} Valid Loss : {:.6f}'.format(epoch,train_loss,valid_loss))\n",
    "    \n",
    "    if valid_loss<=valid_loss_min:\n",
    "        print('Validation Loss decreased {:.6f} -->> {:.6f} . Saving model'.format(valid_loss_min,valid_loss))\n",
    "        torch.save(model.state_dict(),'../models/cifar10_cnn.pt')\n",
    "        valid_loss_min = valid_loss\n",
    "        "
   ]
  },
  {
   "cell_type": "code",
   "execution_count": 25,
   "id": "looking-tattoo",
   "metadata": {},
   "outputs": [
    {
     "data": {
      "text/plain": [
       "<All keys matched successfully>"
      ]
     },
     "execution_count": 25,
     "metadata": {},
     "output_type": "execute_result"
    }
   ],
   "source": [
    "model.load_state_dict(torch.load('../models/cifar10_cnn.pt'))"
   ]
  },
  {
   "cell_type": "code",
   "execution_count": 26,
   "id": "agricultural-credit",
   "metadata": {},
   "outputs": [
    {
     "name": "stdout",
     "output_type": "stream",
     "text": [
      "Test Loss: 1.152751\n"
     ]
    }
   ],
   "source": [
    "test_loss = 0.0 \n",
    "ypred= []\n",
    "for data,target in test_loader:\n",
    "    output = model(data)\n",
    "    loss = criterion(output,target)\n",
    "    _,pred = torch.max(output,1)\n",
    "    ypred.append(pred)\n",
    "    test_loss +=loss.item()*data.size(0)\n",
    "\n",
    "test_loss = test_loss/len(test_loader.sampler)\n",
    "\n",
    "print('Test Loss: {:.6f}'.format(test_loss))\n",
    "    "
   ]
  },
  {
   "cell_type": "code",
   "execution_count": 28,
   "id": "phantom-glance",
   "metadata": {},
   "outputs": [
    {
     "name": "stdout",
     "output_type": "stream",
     "text": [
      "0.5966\n"
     ]
    }
   ],
   "source": [
    "print(metrics.accuracy_score(y_test,ypred))"
   ]
  },
  {
   "cell_type": "code",
   "execution_count": 32,
   "id": "french-penny",
   "metadata": {},
   "outputs": [
    {
     "data": {
      "image/png": "[encoded data removed]",
      "text/plain": [
       "<Figure size 432x288 with 2 Axes>"
      ]
     },
     "metadata": {
      "needs_background": "light"
     },
     "output_type": "display_data"
    }
   ],
   "source": [
    "cm = metrics.confusion_matrix(y_test,ypred)\n",
    "ax = sns.heatmap(cm,annot=True,fmt=' ')\n",
    "ax.set_xlabel('True Labels')\n",
    "ax.set_ylabel('Predicted Labels')\n",
    "ax.set_title('Confusion Matrix');"
   ]
  },
  {
   "cell_type": "code",
   "execution_count": 33,
   "id": "premier-princeton",
   "metadata": {},
   "outputs": [
    {
     "name": "stdout",
     "output_type": "stream",
     "text": [
      "              precision    recall  f1-score   support\n",
      "\n",
      "           0       0.65      0.65      0.65      1000\n",
      "           1       0.65      0.71      0.68      1000\n",
      "           2       0.52      0.47      0.49      1000\n",
      "           3       0.46      0.43      0.45      1000\n",
      "           4       0.56      0.47      0.51      1000\n",
      "           5       0.54      0.48      0.51      1000\n",
      "           6       0.66      0.68      0.67      1000\n",
      "           7       0.65      0.64      0.64      1000\n",
      "           8       0.66      0.76      0.70      1000\n",
      "           9       0.58      0.68      0.62      1000\n",
      "\n",
      "    accuracy                           0.60     10000\n",
      "   macro avg       0.59      0.60      0.59     10000\n",
      "weighted avg       0.59      0.60      0.59     10000\n",
      "\n"
     ]
    }
   ],
   "source": [
    "print(metrics.classification_report(y_test,ypred))"
   ]
  },
  {
   "cell_type": "code",
   "execution_count": null,
   "id": "moral-mauritius",
   "metadata": {},
   "outputs": [],
   "source": []
  }
 ],
 "metadata": {
  "kernelspec": {
   "display_name": "Python 3",
   "language": "python",
   "name": "python3"
  },
  "language_info": {
   "codemirror_mode": {
    "name": "ipython",
    "version": 3
   },
   "file_extension": ".py",
   "mimetype": "text/x-python",
   "name": "python",
   "nbconvert_exporter": "python",
   "pygments_lexer": "ipython3",
   "version": "3.7.6"
  }
 },
 "nbformat": 4,
 "nbformat_minor": 5
}
